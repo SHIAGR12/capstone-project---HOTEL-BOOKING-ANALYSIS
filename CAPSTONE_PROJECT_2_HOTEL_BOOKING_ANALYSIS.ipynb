{
  "nbformat": 4,
  "nbformat_minor": 0,
  "metadata": {
    "colab": {
      "private_outputs": true,
      "provenance": [],
      "collapsed_sections": [
        "vncDsAP0Gaoa",
        "FJNUwmbgGyua",
        "w6K7xa23Elo4",
        "yQaldy8SH6Dl",
        "PH-0ReGfmX4f",
        "mDgbUHAGgjLW",
        "x71ZqKXriCWQ",
        "7hBIi_osiCS2",
        "JlHwYmJAmNHm",
        "35m5QtbWiB9F",
        "PoPl-ycgm1ru",
        "H0kj-8xxnORC",
        "PBTbrJXOngz2",
        "u3PMJOP6ngxN",
        "MSa1f5Uengrz",
        "0wOQAZs5pc--",
        "KSlN3yHqYklG",
        "t6dVpIINYklI",
        "ijmpgYnKYklI",
        "-JiQyfWJYklI",
        "fge-S5ZAYoAp",
        "85gYPyotYoAp",
        "RoGjAbkUYoAp",
        "4Of9eVA-YrdM",
        "bamQiAODYuh1",
        "OH-pJp9IphqM",
        "bbFf2-_FphqN",
        "_ouA3fa0phqN",
        "Seke61FWphqN",
        "PIIx-8_IphqN",
        "8G2x9gOozGDZ",
        "gIfDvo9L0UH2"
      ],
      "include_colab_link": true
    },
    "kernelspec": {
      "name": "python3",
      "display_name": "Python 3"
    },
    "language_info": {
      "name": "python"
    }
  },
  "cells": [
    {
      "cell_type": "markdown",
      "metadata": {
        "id": "view-in-github",
        "colab_type": "text"
      },
      "source": [
        "<a href=\"https://colab.research.google.com/github/SHIAGR12/capstone-project---HOTEL-BOOKING-ANALYSIS/blob/main/CAPSTONE_PROJECT_2_HOTEL_BOOKING_ANALYSIS.ipynb\" target=\"_parent\"><img src=\"https://colab.research.google.com/assets/colab-badge.svg\" alt=\"Open In Colab\"/></a>"
      ]
    },
    {
      "cell_type": "markdown",
      "source": [
        "# **Project Name**    -  HOTEL BOOKING ANALYSIS\n",
        "\n"
      ],
      "metadata": {
        "id": "vncDsAP0Gaoa"
      }
    },
    {
      "cell_type": "markdown",
      "source": [
        "##### **Project Type**    - EDA\n",
        "##### **Contribution**    - Individual\n",
        "##### **Student Name**    - Shivam Agarwal"
      ],
      "metadata": {
        "id": "beRrZCGUAJYm"
      }
    },
    {
      "cell_type": "markdown",
      "source": [
        "# **Project Summary -**"
      ],
      "metadata": {
        "id": "FJNUwmbgGyua"
      }
    },
    {
      "cell_type": "markdown",
      "source": [
        "* In this project we began to explore the dataset in which Hotel Booking comprises of two types of hotels i.e Resort Hotel and City Hotel.\n",
        "\n",
        "* In this dataset, there are 119390 rows and 32 columns.\n",
        "\n",
        "* All the columns are divided into three dtypes : int64, float64 and Object .\n",
        "\n",
        "* In this dataset, there are both duplicates and missing values available. So, we have to deal with that and as a result i have replaced the null and missing values and also i dropped the duplicate values.\n",
        "\n",
        "* The maximum number of missing values are from 'Company' column then followed by 'Agent','Country' and 'Children' columns. The 'Children' column consists of only 4 null values while 'Company' column consists of 112593 null values.\n",
        "\n",
        "* In this project, i divided the data manipulation workflow into three categories i.e. Data Collection, Data cleaning & manipulation and EDA(Exploratory Data Analysis).\n",
        "\n",
        "* In moving further, i have used various basic functions and attributes i.e Data collections first step to find different columns which is done by various methods like Head(), tail(), info(), describe(), columns() and some others method used for data collections.\n",
        "\n",
        "* As i further moved, i check the number of unique values of each columns and generate a list of those values and then also find the unique values of each columns later on.\n",
        "\n",
        "* Then further i converted the datatypes of columns into appropriate datatype. I added some of the columns name here, one is 'total_people' and other is 'total_stay'.\n",
        "\n",
        "* Find some columns are not in accurate data types which correct it later, done in Data cleaning part and as well as duplicates data items must be removed as i find duplicate items equal to 31994 which is dropped from dataset later.\n",
        "\n",
        "* I found that there were some rows in which the combining values of adults, babies and childrens was 0, so this simply means there were no guests as 0 indicates presence of none. So, there were no bookings made. As a result, i simply dropped the rows where combining values of adults, babies and children columns was 0.\n",
        "\n",
        "* The data type of 'reservation_status_date' column was object type, so it was changed to date type format for better use.\n",
        "\n",
        "* Before visualizing any data from the data set we have to do data wrangling. For that, i have checked the null value of all the columns. After checking, when i find minimal number of null values, filling these null values with necessary values as per requirement by using fillna().\n",
        "\n",
        "* So, after completing the process of data wrangling, i moved to the data visualization part.\n",
        "\n",
        "* In the data visualization process, i have used various charts and have dived deep understanding the graphs to catch the proper insights from the data. That gives the business outcomes which will ultimately boost the businesses.\n",
        "\n",
        "* So, i explored and analyzed the data to discover important factors that govern the bookings."
      ],
      "metadata": {
        "id": "F6v_1wHtG2nS"
      }
    },
    {
      "cell_type": "markdown",
      "source": [
        "# **GitHub Link -** https://github.com/SHIAGR12/capstone-project---HOTEL-BOOKING-ANALYSIS"
      ],
      "metadata": {
        "id": "w6K7xa23Elo4"
      }
    },
    {
      "cell_type": "markdown",
      "source": [
        "Provide your GitHub Link here."
      ],
      "metadata": {
        "id": "h1o69JH3Eqqn"
      }
    },
    {
      "cell_type": "markdown",
      "source": [
        "# **Problem Statement**\n"
      ],
      "metadata": {
        "id": "yQaldy8SH6Dl"
      }
    },
    {
      "cell_type": "markdown",
      "source": [
        "Have you ever wondered when the best time of year to book a hotel room is? Or the optimal length of stay in order to get the best daily rate? What if you wanted to predict whether or not a hotel was likely to receive a disproportionately high number of special requests? This hotel booking dataset can help you explore those questions! This data set contains booking information for a city hotel and a resort hotel, and includes information such as when the booking was made, length of stay, the number of adults, children, and/or babies, and the number of available parking spaces, among other things. All personally identifying information has been removed from the data. Explore and analyze the data to discover important factors that govern the bookings."
      ],
      "metadata": {
        "id": "DpeJGUA3kjGy"
      }
    },
    {
      "cell_type": "markdown",
      "source": [
        "#### **Define Your Business Objective?**"
      ],
      "metadata": {
        "id": "PH-0ReGfmX4f"
      }
    },
    {
      "cell_type": "markdown",
      "source": [
        "Analyse the data on bookings of City Hotel and Resort Hotel to gain insights on the different factors that affect the booking. This is undertaken as an individual project."
      ],
      "metadata": {
        "id": "PhDvGCAqmjP1"
      }
    },
    {
      "cell_type": "markdown",
      "source": [
        "# **General Guidelines** : -  "
      ],
      "metadata": {
        "id": "mDgbUHAGgjLW"
      }
    },
    {
      "cell_type": "markdown",
      "source": [
        "1.   Well-structured, formatted, and commented code is required.\n",
        "2.   Exception Handling, Production Grade Code & Deployment Ready Code will be a plus. Those students will be awarded some additional credits.\n",
        "     \n",
        "     The additional credits will have advantages over other students during Star Student selection.\n",
        "       \n",
        "             [ Note: - Deployment Ready Code is defined as, the whole .ipynb notebook should be executable in one go\n",
        "                       without a single error logged. ]\n",
        "\n",
        "3.   Each and every logic should have proper comments.\n",
        "4. You may add as many number of charts you want. Make Sure for each and every chart the following format should be answered.\n",
        "        \n",
        "\n",
        "```\n",
        "# Chart visualization code\n",
        "```\n",
        "            \n",
        "\n",
        "*   Why did you pick the specific chart?\n",
        "*   What is/are the insight(s) found from the chart?\n",
        "* Will the gained insights help creating a positive business impact?\n",
        "Are there any insights that lead to negative growth? Justify with specific reason.\n",
        "\n",
        "5. You have to create at least 20 logical & meaningful charts having important insights.\n",
        "\n",
        "\n",
        "[ Hints : - Do the Vizualization in  a structured way while following \"UBM\" Rule.\n",
        "\n",
        "U - Univariate Analysis,\n",
        "\n",
        "B - Bivariate Analysis (Numerical - Categorical, Numerical - Numerical, Categorical - Categorical)\n",
        "\n",
        "M - Multivariate Analysis\n",
        " ]\n",
        "\n",
        "\n",
        "\n"
      ],
      "metadata": {
        "id": "ZrxVaUj-hHfC"
      }
    },
    {
      "cell_type": "markdown",
      "source": [
        "# ***Let's Begin !***"
      ],
      "metadata": {
        "id": "O_i_v8NEhb9l"
      }
    },
    {
      "cell_type": "markdown",
      "source": [
        "## ***1. Know Your Data***"
      ],
      "metadata": {
        "id": "HhfV-JJviCcP"
      }
    },
    {
      "cell_type": "markdown",
      "source": [
        "### Import Libraries"
      ],
      "metadata": {
        "id": "Y3lxredqlCYt"
      }
    },
    {
      "cell_type": "code",
      "source": [
        "# Import Libraries\n",
        "import numpy as np\n",
        "import pandas as pd\n",
        "import matplotlib.pyplot as plt\n",
        "%matplotlib inline\n",
        "import seaborn as sns\n",
        "import ast"
      ],
      "metadata": {
        "id": "M8Vqi-pPk-HR"
      },
      "execution_count": null,
      "outputs": []
    },
    {
      "cell_type": "markdown",
      "source": [
        "### Dataset Loading"
      ],
      "metadata": {
        "id": "3RnN4peoiCZX"
      }
    },
    {
      "cell_type": "code",
      "source": [
        "from google.colab import drive\n",
        "drive.mount('/content/drive')"
      ],
      "metadata": {
        "id": "WytGgPK1I63X"
      },
      "execution_count": null,
      "outputs": []
    },
    {
      "cell_type": "code",
      "source": [
        "# Load Dataset\n",
        "df = pd.read_csv('/content/drive/MyDrive/dataset/Hotel Bookings.csv')\n"
      ],
      "metadata": {
        "id": "4CkvbW_SlZ_R"
      },
      "execution_count": null,
      "outputs": []
    },
    {
      "cell_type": "markdown",
      "source": [
        "### Dataset First View"
      ],
      "metadata": {
        "id": "x71ZqKXriCWQ"
      }
    },
    {
      "cell_type": "code",
      "source": [
        "# Dataset First Look\n",
        "df.head()"
      ],
      "metadata": {
        "id": "LWNFOSvLl09H"
      },
      "execution_count": null,
      "outputs": []
    },
    {
      "cell_type": "markdown",
      "source": [
        "### Dataset Rows & Columns count"
      ],
      "metadata": {
        "id": "7hBIi_osiCS2"
      }
    },
    {
      "cell_type": "code",
      "source": [
        "# Dataset Rows & Columns count\n",
        "print(\"Number of rows\",df.shape[0])\n",
        "print(\"Number of columns\",df.shape[1])"
      ],
      "metadata": {
        "id": "Kllu7SJgmLij"
      },
      "execution_count": null,
      "outputs": []
    },
    {
      "cell_type": "markdown",
      "source": [
        "### Dataset Information"
      ],
      "metadata": {
        "id": "JlHwYmJAmNHm"
      }
    },
    {
      "cell_type": "code",
      "source": [
        "# Dataset Info\n",
        "df.info()"
      ],
      "metadata": {
        "id": "e9hRXRi6meOf"
      },
      "execution_count": null,
      "outputs": []
    },
    {
      "cell_type": "markdown",
      "source": [
        "#### Duplicate Values"
      ],
      "metadata": {
        "id": "35m5QtbWiB9F"
      }
    },
    {
      "cell_type": "code",
      "source": [
        "# Dataset Duplicate Value Count\n",
        "print(\"No. of duplicated vaues:\",len(df[df.duplicated()]))"
      ],
      "metadata": {
        "id": "1sLdpKYkmox0"
      },
      "execution_count": null,
      "outputs": []
    },
    {
      "cell_type": "markdown",
      "source": [
        "#### Missing Values/Null Values"
      ],
      "metadata": {
        "id": "PoPl-ycgm1ru"
      }
    },
    {
      "cell_type": "code",
      "source": [
        "# Missing Values/Null Values Count\n",
        "df.isnull().sum().sort_values(ascending = False)"
      ],
      "metadata": {
        "id": "GgHWkxvamxVg"
      },
      "execution_count": null,
      "outputs": []
    },
    {
      "cell_type": "code",
      "source": [
        "# Visualizing the missing values\n",
        "# Set the plot size\n",
        "plt.figure(figsize = (15,11))\n",
        "\n",
        "# Create the figure object\n",
        "sns.heatmap(df.isnull().corr(), annot= True)\n",
        "\n",
        "# Set labels\n",
        "plt.xlabel('Name of columns', fontsize=15)\n",
        "plt.ylabel('Name of columns', fontsize=13)\n",
        "plt.title('Places of missing values in Dataset', fontsize=17)\n",
        "\n",
        "# To show\n",
        "plt.show()"
      ],
      "metadata": {
        "id": "3q5wnI3om9sJ"
      },
      "execution_count": null,
      "outputs": []
    },
    {
      "cell_type": "markdown",
      "source": [
        "### What did you know about your dataset?"
      ],
      "metadata": {
        "id": "H0kj-8xxnORC"
      }
    },
    {
      "cell_type": "markdown",
      "source": [
        "* This data set contains a single file which compares various booking information between two hotels: City Hotel and Resort Hotel. Includes information such as when the booking was made, length of stay, the number of adults, children, and/or babies, and the number of available parking spaces, among other things.\n",
        "\n",
        "* The dataset contains a total of 119390 rows and 32 columns.\n",
        "\n",
        "* All the columns are divided into three dtypes : Object, float64 and int64.\n",
        "\n",
        "* This dataset does have duplicated values as well as null values. There are total of 31994 duplicate values and four columns have missing values/ null values.\n",
        "\n",
        "* The maximum number of missing values are from 'Company' column then followed by 'Agent', 'Country' and 'Children' columns. The 'Children' column consists of only 4 null values, while 'Company' column consists of 112593 null values."
      ],
      "metadata": {
        "id": "gfoNAAC-nUe_"
      }
    },
    {
      "cell_type": "markdown",
      "source": [
        "## ***2. Understanding Your Variables***"
      ],
      "metadata": {
        "id": "nA9Y7ga8ng1Z"
      }
    },
    {
      "cell_type": "code",
      "source": [
        "# Dataset Columns\n",
        "df.columns\n",
        "# Getting all the columns name of dataset"
      ],
      "metadata": {
        "id": "j7xfkqrt5Ag5"
      },
      "execution_count": null,
      "outputs": []
    },
    {
      "cell_type": "code",
      "source": [
        "# Dataset Describe\n",
        "df.describe()\n",
        "# Describe data for insights"
      ],
      "metadata": {
        "id": "DnOaZdaE5Q5t"
      },
      "execution_count": null,
      "outputs": []
    },
    {
      "cell_type": "markdown",
      "source": [
        "### Variables Description"
      ],
      "metadata": {
        "id": "PBTbrJXOngz2"
      }
    },
    {
      "cell_type": "markdown",
      "source": [
        "1. hotel : Name of the hotel (Resort Hotel or City Hotel)\n",
        "\n",
        "2. is_canceled : If the booking was canceled (1) or not (0)\n",
        "\n",
        "3. lead_time: Number of days before the actual arrival of the guests\n",
        "\n",
        "4. arrival_date_year : Year of arrival date\n",
        "\n",
        "5. arrival_date_month : Month of arrival date\n",
        "\n",
        "6. arrival_date_week_number : Week number of year for arrival date\n",
        "\n",
        "7. arrival_date_day_of_month : Day of arrival date\n",
        "\n",
        "8. stays_in_weekend_nights : Number of weekend nights (Saturday or Sunday) spent at the hotel by the guests.\n",
        "\n",
        "9. stays_in_week_nights : Number of weeknights (Monday to Friday) spent at the hotel by the guests.\n",
        "\n",
        "10. adults : Number of adults among guests\n",
        "\n",
        "11. children : Number of children among guests\n",
        "\n",
        "12. babies : Number of babies among guests\n",
        "\n",
        "13. meal : Type of meal booked\n",
        "\n",
        "14. country : Country of guests\n",
        "\n",
        "15. market_segment : Designation of market segment\n",
        "\n",
        "16. distribution_channel : Name of booking distribution channel\n",
        "\n",
        "17. is_repeated_guest : If the booking was from a repeated guest (1) or not (0)\n",
        "\n",
        "18. previous_cancellations : Number of previous bookings that were cancelled by the customer prior to the current booking\n",
        "\n",
        "19. previous_bookings_not_canceled : Number of previous bookings not cancelled by the customer prior to the current booking\n",
        "\n",
        "20. reserved_room_type : Code of room type reserved\n",
        "\n",
        "21. assigned_room_type : Code of room type assigned\n",
        "\n",
        "22. booking_changes : Number of changes/amendments made to the booking\n",
        "\n",
        "23. deposit_type : Type of the deposit made by the guest\n",
        "\n",
        "24. agent : ID of travel agent who made the booking\n",
        "\n",
        "25. company : ID of the company that made the booking\n",
        "\n",
        "26. days_in_waiting_list : Number of days the booking was in the waiting list\n",
        "\n",
        "27. customer_type : Type of customer, assuming one of four categories\n",
        "\n",
        "28. adr : Average Daily Rate, as defined by dividing the sum of all lodging transactions by the total number of staying nights\n",
        "\n",
        "29. required_car_parking_spaces : Number of car parking spaces required by the customer\n",
        "\n",
        "30. total_of_special_requests : Number of special requests made by the customer\n",
        "\n",
        "31. reservation_status : Reservation status (Canceled, Check-Out or No-Show)\n",
        "\n",
        "32. reservation_status_date : Date at which the last reservation status was updated"
      ],
      "metadata": {
        "id": "aJV4KIxSnxay"
      }
    },
    {
      "cell_type": "markdown",
      "source": [
        "### Check Unique Values for each variable."
      ],
      "metadata": {
        "id": "u3PMJOP6ngxN"
      }
    },
    {
      "cell_type": "code",
      "source": [
        "# Check Unique Values for each variable.\n",
        "# Checking the number of Unique Values for each variable\n",
        "for col in df.columns:\n",
        "  print('No. of unique values of', col,\"is\",df[col].nunique())\n",
        "# Using for-loop for each variable of Dataset"
      ],
      "metadata": {
        "id": "zms12Yq5n-jE"
      },
      "execution_count": null,
      "outputs": []
    },
    {
      "cell_type": "code",
      "source": [
        "# Checking Unique Values in categorical columns one by one\n",
        "# Checking Unique Values in Hotel column\n",
        "df['hotel'].unique()"
      ],
      "metadata": {
        "id": "O6wzUmgePilQ"
      },
      "execution_count": null,
      "outputs": []
    },
    {
      "cell_type": "code",
      "source": [
        "# Checking Unique Values in is_canceled column\n",
        "df['is_canceled'].unique()"
      ],
      "metadata": {
        "id": "zwcBf1T8PzQn"
      },
      "execution_count": null,
      "outputs": []
    },
    {
      "cell_type": "code",
      "source": [
        "# Checking Unique Values in lead_time column\n",
        "df['lead_time'].unique()"
      ],
      "metadata": {
        "id": "vwJSjSpHQADj"
      },
      "execution_count": null,
      "outputs": []
    },
    {
      "cell_type": "code",
      "source": [
        "# Checking Unique Values in arrival_date_year column\n",
        "df['arrival_date_year'].unique()"
      ],
      "metadata": {
        "id": "7U45fX-VQQ-b"
      },
      "execution_count": null,
      "outputs": []
    },
    {
      "cell_type": "code",
      "source": [
        "# Checking Unique Values in arrival_date_month column\n",
        "df['arrival_date_month'].unique()"
      ],
      "metadata": {
        "id": "Re_4ggSAQe9H"
      },
      "execution_count": null,
      "outputs": []
    },
    {
      "cell_type": "code",
      "source": [
        "#Checking Unique Values in arrival_date_week_number column\n",
        "df['arrival_date_week_number'].unique()"
      ],
      "metadata": {
        "id": "hy4mXCCvRXW1"
      },
      "execution_count": null,
      "outputs": []
    },
    {
      "cell_type": "code",
      "source": [
        "#Checking Unique Values in arrival_date_day_of_month column\n",
        "df['arrival_date_day_of_month'].unique()"
      ],
      "metadata": {
        "id": "hlbP86rKR112"
      },
      "execution_count": null,
      "outputs": []
    },
    {
      "cell_type": "code",
      "source": [
        "#Checking Unique Values in stays_in_weekend_nights column\n",
        "df['stays_in_weekend_nights'].unique()"
      ],
      "metadata": {
        "id": "8BMq0sURSaVF"
      },
      "execution_count": null,
      "outputs": []
    },
    {
      "cell_type": "code",
      "source": [
        "#Checking Unique Values in stays_in_week_nights column\n",
        "df['stays_in_week_nights'].unique()"
      ],
      "metadata": {
        "id": "FFZSmvwUSz4P"
      },
      "execution_count": null,
      "outputs": []
    },
    {
      "cell_type": "code",
      "source": [
        "#Checking Unique Values in adults column\n",
        "df['adults'].unique()\n"
      ],
      "metadata": {
        "id": "DDqV4Gr9TqxQ"
      },
      "execution_count": null,
      "outputs": []
    },
    {
      "cell_type": "code",
      "source": [
        "#Checking Unique Values in children column\n",
        "df['children'].unique()"
      ],
      "metadata": {
        "id": "ZXj3zQnIT7WY"
      },
      "execution_count": null,
      "outputs": []
    },
    {
      "cell_type": "code",
      "source": [
        "#Checking Unique Values in babies column\n",
        "df['babies'].unique()"
      ],
      "metadata": {
        "id": "aH57Ye6mUJFo"
      },
      "execution_count": null,
      "outputs": []
    },
    {
      "cell_type": "code",
      "source": [
        "#Checking Unique Values in meal column\n",
        "df['meal'].unique()"
      ],
      "metadata": {
        "id": "9sMN8MvcUj-j"
      },
      "execution_count": null,
      "outputs": []
    },
    {
      "cell_type": "code",
      "source": [
        "#Checking Unique Values in country column\n",
        "df['country'].unique()"
      ],
      "metadata": {
        "id": "rft5swDzUz3b"
      },
      "execution_count": null,
      "outputs": []
    },
    {
      "cell_type": "code",
      "source": [
        "#Checking Unique Values in market_segment column\n",
        "df['market_segment'].unique()"
      ],
      "metadata": {
        "id": "Rlq7ABBFVDM6"
      },
      "execution_count": null,
      "outputs": []
    },
    {
      "cell_type": "code",
      "source": [
        "#Checking Unique Values in distribution_channel column\n",
        "df['distribution_channel'].unique()"
      ],
      "metadata": {
        "id": "H868VPZ5VaFd"
      },
      "execution_count": null,
      "outputs": []
    },
    {
      "cell_type": "code",
      "source": [
        "#Checking Unique Values in is_repeated_guest column\n",
        "df['is_repeated_guest'].unique()"
      ],
      "metadata": {
        "id": "eKF1PdyfVs2Y"
      },
      "execution_count": null,
      "outputs": []
    },
    {
      "cell_type": "code",
      "source": [
        "#Checking Unique Values in previous_cancellations column\n",
        "df['previous_cancellations'].unique()"
      ],
      "metadata": {
        "id": "S7gNhEAJWAjA"
      },
      "execution_count": null,
      "outputs": []
    },
    {
      "cell_type": "code",
      "source": [
        "#Checking Unique Values in previous_bookings_not_canceled column\n",
        "df['previous_bookings_not_canceled'].unique()"
      ],
      "metadata": {
        "id": "nKYnseyqWjNV"
      },
      "execution_count": null,
      "outputs": []
    },
    {
      "cell_type": "code",
      "source": [
        "#Checking Unique Values in reserved_room_type column\n",
        "df['reserved_room_type'].unique()"
      ],
      "metadata": {
        "id": "bghWoFT8XDCZ"
      },
      "execution_count": null,
      "outputs": []
    },
    {
      "cell_type": "code",
      "source": [
        "#Checking Unique Values in assigned_room_type column\n",
        "df['assigned_room_type'].unique()"
      ],
      "metadata": {
        "id": "UOStXX-_X95P"
      },
      "execution_count": null,
      "outputs": []
    },
    {
      "cell_type": "code",
      "source": [
        "#Checking Unique Values in booking_changes column\n",
        "df['booking_changes'].unique()"
      ],
      "metadata": {
        "id": "3vn_d1OYYPYL"
      },
      "execution_count": null,
      "outputs": []
    },
    {
      "cell_type": "code",
      "source": [
        "#Checking Unique Values in deposit_type column\n",
        "df['deposit_type'].unique()"
      ],
      "metadata": {
        "id": "s-1aRFK1YhKT"
      },
      "execution_count": null,
      "outputs": []
    },
    {
      "cell_type": "code",
      "source": [
        "#Checking Unique Values in agent column\n",
        "df['agent'].unique()"
      ],
      "metadata": {
        "id": "6u6VU7JsZSsR"
      },
      "execution_count": null,
      "outputs": []
    },
    {
      "cell_type": "code",
      "source": [
        "#Checking Unique Values in company column\n",
        "df['company'].unique()"
      ],
      "metadata": {
        "id": "VCrG4kopZvkY"
      },
      "execution_count": null,
      "outputs": []
    },
    {
      "cell_type": "code",
      "source": [
        "#Checking Unique Values in days_in_waiting_list column\n",
        "df['days_in_waiting_list'].unique()"
      ],
      "metadata": {
        "id": "Gd-BL36HaGn0"
      },
      "execution_count": null,
      "outputs": []
    },
    {
      "cell_type": "code",
      "source": [
        "#Checking Unique Values in customer_type column\n",
        "df['customer_type'].unique()\n"
      ],
      "metadata": {
        "id": "INUhZrwpahun"
      },
      "execution_count": null,
      "outputs": []
    },
    {
      "cell_type": "code",
      "source": [
        "#Checking Unique Values in adr column\n",
        "df['adr'].unique()"
      ],
      "metadata": {
        "id": "KcGUI2w9a2hf"
      },
      "execution_count": null,
      "outputs": []
    },
    {
      "cell_type": "code",
      "source": [
        "#Checking Unique Values in required_car_parking_spaces column\n",
        "df['required_car_parking_spaces'].unique()"
      ],
      "metadata": {
        "id": "08x1t5fibGk4"
      },
      "execution_count": null,
      "outputs": []
    },
    {
      "cell_type": "code",
      "source": [
        "#Checking Unique Values in total_of_special_requests column\n",
        "df['total_of_special_requests'].unique()"
      ],
      "metadata": {
        "id": "VutLjCU0bYea"
      },
      "execution_count": null,
      "outputs": []
    },
    {
      "cell_type": "code",
      "source": [
        "#Checking Unique Values in reservation_status column\n",
        "df['reservation_status'].unique()"
      ],
      "metadata": {
        "id": "ySnTErkFbyoX"
      },
      "execution_count": null,
      "outputs": []
    },
    {
      "cell_type": "code",
      "source": [
        "#Checking Unique Values in reservation_status_date column\n",
        "df['reservation_status_date'].unique()"
      ],
      "metadata": {
        "id": "l3qC1eEIb-aM"
      },
      "execution_count": null,
      "outputs": []
    },
    {
      "cell_type": "markdown",
      "source": [
        "## 3. ***Data Wrangling***"
      ],
      "metadata": {
        "id": "dauF4eBmngu3"
      }
    },
    {
      "cell_type": "markdown",
      "source": [
        "### Data Wrangling Code"
      ],
      "metadata": {
        "id": "bKJF3rekwFvQ"
      }
    },
    {
      "cell_type": "code",
      "source": [
        "# Write your code to make your dataset analysis ready.\n",
        "#Miss/Null values\n",
        "df.isnull().sum().sort_values(ascending=False)[:6]"
      ],
      "metadata": {
        "id": "wk-9a2fpoLcV"
      },
      "execution_count": null,
      "outputs": []
    },
    {
      "cell_type": "code",
      "source": [
        "# Replacing null values of company, agent and children columns with 0 and country column with 'others'\n",
        "df[['company','agent','children']] = df[['company','agent','children']].fillna(0)\n",
        "df[['country']] = df[['country']].fillna('others')"
      ],
      "metadata": {
        "id": "cTcrYeujdNqq"
      },
      "execution_count": null,
      "outputs": []
    },
    {
      "cell_type": "code",
      "source": [
        "# Checking if all null values are removed\n",
        "df.isnull().sum().sort_values(ascending = False)[:6]"
      ],
      "metadata": {
        "id": "IYCh8QyvduoO"
      },
      "execution_count": null,
      "outputs": []
    },
    {
      "cell_type": "code",
      "source": [
        "# Checking number of duplicate values in the dataset\n",
        "print(\"No. of duplicated value\",len(df[df.duplicated()]))"
      ],
      "metadata": {
        "id": "NtgE7someMBG"
      },
      "execution_count": null,
      "outputs": []
    },
    {
      "cell_type": "code",
      "source": [
        "# Dropping the duplicate rows from dataset\n",
        "df = df.drop_duplicates()"
      ],
      "metadata": {
        "id": "yoIJvtSyeh0_"
      },
      "execution_count": null,
      "outputs": []
    },
    {
      "cell_type": "code",
      "source": [
        "# Checking the shape of dataset after dropping duplicate values\n",
        "df.shape"
      ],
      "metadata": {
        "id": "8Y7lvx-1futH"
      },
      "execution_count": null,
      "outputs": []
    },
    {
      "cell_type": "code",
      "source": [
        "# Checking the shape of dataset whose combining values of adults, babies and children columns is 0\n",
        "df[df['adults']+df['babies']+df['children'] == 0].shape\n"
      ],
      "metadata": {
        "id": "7HmLWtHIf_SE"
      },
      "execution_count": null,
      "outputs": []
    },
    {
      "cell_type": "code",
      "source": [
        "# Dropping the rows where combining values of adults, babies and children columns is 0, because it simply means no bookings were made\n",
        "df.drop(df[df['adults']+df['babies']+df['children'] == 0].index, inplace = True)\n"
      ],
      "metadata": {
        "id": "V8uzM0ENgoKr"
      },
      "execution_count": null,
      "outputs": []
    },
    {
      "cell_type": "code",
      "source": [
        "# Changing datatype of column 'reservation_status_date' from object to data_type\n",
        "df['reservation_status_date'] = pd.to_datetime(df['reservation_status_date'], format = '%Y-%m-%d')\n",
        "\n"
      ],
      "metadata": {
        "id": "wvW5u3rBhMcX"
      },
      "execution_count": null,
      "outputs": []
    },
    {
      "cell_type": "code",
      "source": [
        "# Adding total staying days in hotels\n",
        "df['total_stay'] = df['stays_in_weekend_nights']+df['stays_in_week_nights']\n",
        "\n",
        "# Adding total people number as column, i.e. total types of person = num of adults + children + babies\n",
        "df['total_people'] = df['adults']+df['babies']+df['children']\n"
      ],
      "metadata": {
        "id": "YeKbLa7MhrNG"
      },
      "execution_count": null,
      "outputs": []
    },
    {
      "cell_type": "code",
      "source": [
        "# Checking the final number of rows and columns\n",
        "df.shape\n"
      ],
      "metadata": {
        "id": "snlbMzNYiKfI"
      },
      "execution_count": null,
      "outputs": []
    },
    {
      "cell_type": "markdown",
      "source": [
        "### What all manipulations have you done and insights you found?"
      ],
      "metadata": {
        "id": "MSa1f5Uengrz"
      }
    },
    {
      "cell_type": "markdown",
      "source": [
        "* I have done the following manipulations and the insights were found, are as follows:-\n",
        "\n",
        "1. I found that there were four columns containing null values. So we had Null values in columns- Company, Agent, Country and Children.\n",
        "2. For company and agent, i have filled the missing values with 0, For country column, i have fill missing values with object 'Others'(Assuming while collecting data country was not found so user selected the 'Others' option.)\n",
        "\n",
        "3. As the count of missing values in Children Column was only 4, so it was replaced with 0 considering no children.\n",
        "\n",
        "* This dataset was also containing duplicate values, so duplicate values was dropped.\n",
        "\n",
        "* I found that there were some rows in which the combining values of adults, babies and childrens was 0, so this simply means there were no guests as 0 indicates presence of none. So, there were no bookings made. As a result, i simply dropped the rows where combining values of adults, babies and children columns was 0.\n",
        "\n",
        "* The data type of 'reservation_status_date' column was object type, so it was changed to date type format for better use.\n",
        "\n",
        "* There were two new columns that was added, one is 'total_people' and other is 'total_stay'.\n",
        "\n"
      ],
      "metadata": {
        "id": "LbyXE7I1olp8"
      }
    },
    {
      "cell_type": "markdown",
      "source": [
        "## ***4. Data Vizualization, Storytelling & Experimenting with charts : Understand the relationships between variables***"
      ],
      "metadata": {
        "id": "GF8Ens_Soomf"
      }
    },
    {
      "cell_type": "markdown",
      "source": [
        "#### Chart - 1 From where most guest are coming?"
      ],
      "metadata": {
        "id": "0wOQAZs5pc--"
      }
    },
    {
      "cell_type": "code",
      "source": [
        "#value count of visitors who come from different countries\n",
        "guest_according_country = df[df['is_canceled']==0]['country'].value_counts().reset_index()\n",
        "guest_according_country.columns= ['country','no. of guest']\n",
        "guest_according_country\n"
      ],
      "metadata": {
        "id": "8pU-O9d6gfrB"
      },
      "execution_count": null,
      "outputs": []
    },
    {
      "cell_type": "code",
      "source": [
        "# Chart - 1 visualization code\n",
        "guest_according_country=guest_according_country.nlargest(15, ['no. of guest'])\n",
        "plt.figure(figsize = (18,8))\n",
        "graph = sns.barplot(data = guest_according_country, x = 'country',y = 'no. of guest')\n",
        "#set labels\n",
        "plt.xlabel('Country Name')\n",
        "plt.ylabel('no. of guests')\n",
        "plt.title (\"Guest according to country\")\n",
        "for container in graph.containers:\n",
        "  graph.bar_label(container)\n",
        "#to show\n",
        "plt.show()"
      ],
      "metadata": {
        "id": "7v_ESjsspbW7"
      },
      "execution_count": null,
      "outputs": []
    },
    {
      "cell_type": "markdown",
      "source": [
        "##### 1. Why did you pick the specific chart?"
      ],
      "metadata": {
        "id": "K5QZ13OEpz2H"
      }
    },
    {
      "cell_type": "markdown",
      "source": [
        "Bar charts should be used when you are showing segments of information. Vertical bar charts are useful to compare different categorical or discrete variables, such as age groups, classes, schools, etc., as long as there are not too many categories to compare."
      ],
      "metadata": {
        "id": "XESiWehPqBRc"
      }
    },
    {
      "cell_type": "markdown",
      "source": [
        "##### 2. What is/are the insight(s) found from the chart?"
      ],
      "metadata": {
        "id": "lQ7QKXXCp7Bj"
      }
    },
    {
      "cell_type": "markdown",
      "source": [
        "From the above chart I got to know that, there are 20977 customers which are come from PRT who is most visiting country in more than 150+ counties. and 9688 customers come from GBR of the whole customers data given in the dataset."
      ],
      "metadata": {
        "id": "C_j1G7yiqdRP"
      }
    },
    {
      "cell_type": "markdown",
      "source": [
        "##### 3. Will the gained insights help creating a positive business impact?\n",
        "Are there any insights that lead to negative growth? Justify with specific reason."
      ],
      "metadata": {
        "id": "448CDAPjqfQr"
      }
    },
    {
      "cell_type": "markdown",
      "source": [
        "Now we can look up only 3 countries make huge part of data which is PRT,GBR,FRA.that countries play most important role for making huge no. of visiting dataset.\n",
        "\n",
        "now we should find the answer of why?.why peoples coming from PRT,GBR,FRA. what they like, and also we need the answer of why customer not coming from other countries , after we will match data of both of us and get reason for those cusomers are not coming repeatedly."
      ],
      "metadata": {
        "id": "3cspy4FjqxJW"
      }
    },
    {
      "cell_type": "markdown",
      "source": [
        "#### Chart - 2  What percentage of bookings are canceled?"
      ],
      "metadata": {
        "id": "KSlN3yHqYklG"
      }
    },
    {
      "cell_type": "code",
      "source": [
        "#catogaries for booking, 0 for booking  not canceled; 1 for booking cancelled\n",
        "catogaries_of_booking_canceled = df.is_canceled.unique()\n",
        "print(catogaries_of_booking_canceled)"
      ],
      "metadata": {
        "id": "GzsRNJgWixR3"
      },
      "execution_count": null,
      "outputs": []
    },
    {
      "cell_type": "code",
      "source": [
        "#replace 0 by Not canceled & 1 by canceled\n",
        "df.is_canceled = df.is_canceled.replace(0,'Not_Canceled').replace(1, 'Canceled')"
      ],
      "metadata": {
        "id": "LobISRtsi7fh"
      },
      "execution_count": null,
      "outputs": []
    },
    {
      "cell_type": "code",
      "source": [
        "# Chart - 2 visualization code\n",
        "df.groupby('is_canceled').size().plot(kind='pie', labels=[\"Bookings Canceled\", \"Bookings Not Canceled\"], fontsize=15, autopct='%.2f%%',  figsize=(6, 6),shadow = True,explode=[0.05, 0.05])\n",
        "plt.ylabel('' , fontsize=20)\n",
        "plt.title('Bookings Cancelation', fontsize=20)"
      ],
      "metadata": {
        "id": "R4YgtaqtYklH"
      },
      "execution_count": null,
      "outputs": []
    },
    {
      "cell_type": "markdown",
      "source": [
        "##### 1. Why did you pick the specific chart?"
      ],
      "metadata": {
        "id": "t6dVpIINYklI"
      }
    },
    {
      "cell_type": "markdown",
      "source": [
        "A pie chart expresses a part-to-whole relationship in your data. It's easy to explain the percentage comparison through area covered in a circle with different colors. Where differenet percentage comparison comes into action pie chart is used frequently. So, I used Pie chart and which helped me to get the percentage comparision of the dependant variable."
      ],
      "metadata": {
        "id": "5aaW0BYyYklI"
      }
    },
    {
      "cell_type": "markdown",
      "source": [
        "##### 2. What is/are the insight(s) found from the chart?"
      ],
      "metadata": {
        "id": "ijmpgYnKYklI"
      }
    },
    {
      "cell_type": "markdown",
      "source": [
        "There are 7318 customer in this hotel data analysis , in which 37.02% of booking got cancelled but 62.98% of booking not cancelled."
      ],
      "metadata": {
        "id": "PSx9atu2YklI"
      }
    },
    {
      "cell_type": "markdown",
      "source": [
        "##### 3. Will the gained insights help creating a positive business impact?\n",
        "Are there any insights that lead to negative growth? Justify with specific reason."
      ],
      "metadata": {
        "id": "-JiQyfWJYklI"
      }
    },
    {
      "cell_type": "markdown",
      "source": [
        "A 37.08% booking cancellation rate, as indicated by a pie chart, suggests a significant portion of reservations are not converting into actual bookings. While this insight alone does not provide a complete picture, it does raise concerns and prompts further investigation to understand the reasons behind the cancellations.\n",
        "\n",
        "Focus on some issues for reducing booking cancellation. its given below:\n",
        "\n",
        "**Identifying Issues**: The insights gained from the data analysis can help identify specific issues causing cancellations. This might include factors like pricing, customer service, website functionality, or property conditions.\n",
        "\n",
        "**Improving Customer Experience**: Addressing the identified issues can lead to improvements in the overall customer experience, making it more likely for potential customers to complete their bookings.\n",
        "\n",
        "**Revenue Increase**: By reducing the cancellation rate, the business has the potential to increase revenue, as more bookings will be converted into actual stays."
      ],
      "metadata": {
        "id": "BcBbebzrYklV"
      }
    },
    {
      "cell_type": "markdown",
      "source": [
        "#### Chart - 3 Which are the most busy months?"
      ],
      "metadata": {
        "id": "EM7whBJCYoAo"
      }
    },
    {
      "cell_type": "code",
      "source": [
        "# groupby arrival_date_month and taking the hotel count\n",
        "booking_dates_by_months = df.groupby(['arrival_date_month'])['hotel'].count().sort_values(ascending = False).reset_index().rename(columns = {'hotel':'counts'})\n",
        "booking_dates_by_months"
      ],
      "metadata": {
        "id": "MNtAHZWBkNY-"
      },
      "execution_count": null,
      "outputs": []
    },
    {
      "cell_type": "code",
      "source": [
        "# Chart - 3 visualization code\n",
        "#set figure size\n",
        "plt.figure(figsize=(20,8))\n",
        "#plotting line chart as x - months , y- counts\n",
        "sns.lineplot(data = booking_dates_by_months , x = 'arrival_date_month' , y = 'counts', color = 'red')\n",
        "#set_labels\n",
        "plt.xlabel('months')\n",
        "plt.ylabel('no. of bookings')\n",
        "plt.title('Number booking across each month')\n",
        "#To_show\n",
        "plt.show()"
      ],
      "metadata": {
        "id": "t6GMdE67YoAp"
      },
      "execution_count": null,
      "outputs": []
    },
    {
      "cell_type": "markdown",
      "source": [
        "##### 1. Why did you pick the specific chart?"
      ],
      "metadata": {
        "id": "fge-S5ZAYoAp"
      }
    },
    {
      "cell_type": "markdown",
      "source": [
        "Line charts are effective in representing sequential data, such as time series. In your case, you're analyzing data over months, and a line chart can display the trend and changes over time in a visually clear manner.The upward or downward slope of the line gives an immediate impression of the direction of change.August, July, and May being the busiest months, and January being the lowest, can be visually identified on a line chart. Peaks and troughs are easily distinguishable, making it simple to identify the months of interest.\n",
        "\n",
        "Line charts can also be useful for making predictions or planning. For example, if there is a clear upward trend in certain months, it may suggest a pattern that can be anticipated in future years for better planning."
      ],
      "metadata": {
        "id": "5dBItgRVYoAp"
      }
    },
    {
      "cell_type": "markdown",
      "source": [
        "##### 2. What is/are the insight(s) found from the chart?"
      ],
      "metadata": {
        "id": "85gYPyotYoAp"
      }
    },
    {
      "cell_type": "markdown",
      "source": [
        "Peak months of booking for earn high revenue is August & July months in a year having highest booking. and make marketing strategies and give high discount to customers due to very less no. of bookings are done in November & January month."
      ],
      "metadata": {
        "id": "4jstXR6OYoAp"
      }
    },
    {
      "cell_type": "markdown",
      "source": [
        "##### 3. Will the gained insights help creating a positive business impact?\n",
        "Are there any insights that lead to negative growth? Justify with specific reason."
      ],
      "metadata": {
        "id": "RoGjAbkUYoAp"
      }
    },
    {
      "cell_type": "markdown",
      "source": [
        "The insights gained from your hotel booking data analysis, indicating that August, July, and May are the busiest months while January is the slowest, can indeed have a positive business impact if leveraged effectively. Here are potential positive impacts and considerations:\n",
        "\n",
        "Positive Impacts:\n",
        "\n",
        "**Revenue Optimization**: Knowing that August, July, and May are the busiest months allows for better pricing strategies during these periods. Higher demand often allows for increased room rates, leading to improved revenue.\n",
        "\n",
        "**Resource Allocation**: With the understanding of peak and off-peak months, hotels can optimize staff scheduling and resource allocation. During busy months, more staff can be deployed to ensure excellent customer service, while during slower months, operational costs can be optimized.\n",
        "\n",
        "**Marketing Strategies**: Marketing efforts can be intensified during slower months, offering promotions, special packages, or discounts to attract more bookings. This can help in increasing occupancy during traditionally low-demand periods.\n",
        "\n",
        "Inventory Management: During peak months, hotels can ensure that room inventory is managed efficiently to avoid overbooking or missed revenue opportunities. During slow months, the focus can be on flexible cancellation policies to attract more bookings.\n",
        "\n",
        "**Considerations for Negative Growth:**\n",
        "While the insights provide valuable information for positive impacts, there are considerations that might lead to negative growth if not addressed:\n",
        "\n",
        "**Overpricing during Peak Months**: If the pricing strategy during peak months becomes too aggressive, it may deter potential customers, leading to a negative impact on occupancy rates and revenue. Striking a balance between maximizing revenue and maintaining customer satisfaction is crucial.\n",
        "\n",
        "**Neglecting Off-Peak Periods**: Focusing solely on peak months and neglecting marketing efforts during off-peak periods might lead to prolonged periods of low occupancy. Continuous efforts are required to attract customers during slower months.\n",
        "\n",
        "**Competitive Market Dynamics**: If other hotels in the area are adapting more effectively to the demand fluctuations, there could be a negative impact on market share. Continuous monitoring of the competitive landscape is essential.\n",
        "\n",
        "**Ignoring Customer Feedback**: If customer feedback indicates dissatisfaction during peak months or specific pain points during slow months, failure to address these issues can lead to negative growth in the long term."
      ],
      "metadata": {
        "id": "zfJ8IqMcYoAp"
      }
    },
    {
      "cell_type": "markdown",
      "source": [
        "#### Chart - 4 Percentage of repeated guests (Univariate)"
      ],
      "metadata": {
        "id": "4Of9eVA-YrdM"
      }
    },
    {
      "cell_type": "code",
      "source": [
        "# Chart - 4 visualization code\n",
        "# Visualizing by pie chart\n",
        "df['is_repeated_guest'].value_counts().plot.pie(explode=[0.05, 0.05], autopct ='%1.1f%%', shadow = True, figsize =(7,8), fontsize = 20)\n",
        "\n",
        "# Set labels\n",
        "plt.title('Percentage (%) of repeated guests', fontsize = 20)\n",
        "\n",
        "# To show\n",
        "plt.show()"
      ],
      "metadata": {
        "id": "irlUoxc8YrdO"
      },
      "execution_count": null,
      "outputs": []
    },
    {
      "cell_type": "markdown",
      "source": [
        "##### 1. Why did you pick the specific chart?"
      ],
      "metadata": {
        "id": "iky9q4vBYrdO"
      }
    },
    {
      "cell_type": "markdown",
      "source": [
        "Pie charts are used to represent the data or relative data in a single chart. The concept of pie slices is used to show the percentage of a particular data from the whole pie. Thus, i have used to show the percentage of repeated guests or not (where 0 is not repeated guest and 1 is repeated guest) through pie chart with different colored area under a circle."
      ],
      "metadata": {
        "id": "aJRCwT6DYrdO"
      }
    },
    {
      "cell_type": "markdown",
      "source": [
        "##### 2. What is/are the insight(s) found from the chart?"
      ],
      "metadata": {
        "id": "F6T5p64dYrdO"
      }
    },
    {
      "cell_type": "markdown",
      "source": [
        "Repeated guests are very few which is only 3.9% while 96.1% guests are not returning to the same hotel. So, it's a matter of deep thinking and taking proper steps to increase the repeated guests numbers for both type of hotels. In order to retained the guests management should take feedbacks from guests and try to improve the services."
      ],
      "metadata": {
        "id": "Xx8WAJvtYrdO"
      }
    },
    {
      "cell_type": "markdown",
      "source": [
        "##### 3. Will the gained insights help creating a positive business impact?\n",
        "Are there any insights that lead to negative growth? Justify with specific reason."
      ],
      "metadata": {
        "id": "y-Ehk30pYrdP"
      }
    },
    {
      "cell_type": "markdown",
      "source": [
        "Yes, the proportion of repeated guests is very much low, so if the Hotels work well in this side also, then the increase in number of repeated guests will ultimately boost their revenue. So Hotels can give alluring offers to non-repetitive customers during off seasons to enhance revenue. So, right steps should be taken like taking feedbacks, solving problems of customers within time limit and offering best offers to the customers."
      ],
      "metadata": {
        "id": "jLNxxz7MYrdP"
      }
    },
    {
      "cell_type": "markdown",
      "source": [
        "#### Chart - 5 Which Year having highest booking?"
      ],
      "metadata": {
        "id": "bamQiAODYuh1"
      }
    },
    {
      "cell_type": "code",
      "source": [
        "# Chart - 5 visualization code\n",
        "#set plot size\n",
        "plt.figure(figsize=(8,5))\n",
        "\n",
        "#  plot with countplot\n",
        "sns.countplot(x=df['arrival_date_year'],hue=df['hotel'])\n",
        "#set labels\n",
        "plt.xlabel(\"Year\")\n",
        "plt.ylabel(\"No. of bookings\")\n",
        "plt.title(\"Year Wise bookings\")\n",
        "#To show\n",
        "plt.show()"
      ],
      "metadata": {
        "id": "TIJwrbroYuh3"
      },
      "execution_count": null,
      "outputs": []
    },
    {
      "cell_type": "markdown",
      "source": [
        "##### 1. Why did you pick the specific chart?"
      ],
      "metadata": {
        "id": "QHF8YVU7Yuh3"
      }
    },
    {
      "cell_type": "markdown",
      "source": [
        "Bar charts are effective for comparing the quantities of different categories, in this case, the number of bookings for City Hotels and Resort Hotels.\n",
        "\n",
        "The distinct bars for each category make it easy to see and compare the values.he height of each bar corresponds to the quantity being measured (e.g., number of bookings), allowing viewers to quickly interpret and compare the values.\n",
        "\n",
        "City Hotels and Resort Hotels are categorical data, and bar charts are particularly well-suited for visualizing such data. Each category gets its own bar, and the gaps between bars help emphasize the discrete nature of the categories."
      ],
      "metadata": {
        "id": "dcxuIMRPYuh3"
      }
    },
    {
      "cell_type": "markdown",
      "source": [
        "##### 2. What is/are the insight(s) found from the chart?"
      ],
      "metadata": {
        "id": "GwzvFGzlYuh3"
      }
    },
    {
      "cell_type": "markdown",
      "source": [
        "We analysed a high number of booking for both City Hotels and Resort Hotels in year 2016, Hotel bookings for cities are almost always higher than those for resorts."
      ],
      "metadata": {
        "id": "uyqkiB8YYuh3"
      }
    },
    {
      "cell_type": "markdown",
      "source": [
        "##### 3. Will the gained insights help creating a positive business impact?\n",
        "Are there any insights that lead to negative growth? Justify with specific reason."
      ],
      "metadata": {
        "id": "qYpmQ266Yuh3"
      }
    },
    {
      "cell_type": "markdown",
      "source": [
        "The insights gained from the hotel booking data analysis can have both positive and potentially negative implications for the business, depending on the context and additional factors. Let's break down the potential impacts:\n",
        "\n",
        "**Positive Impacts**:\n",
        "\n",
        "**Understanding Booking Patterns**: Knowing that city hotels consistently have higher bookings than resort hotels provides valuable insight into customer preferences and booking patterns. This information can help tailor marketing strategies and promotions to target the larger market segment interested in city hotels.\n",
        "\n",
        "**Seasonal Trends**: The slight decrease in bookings for both types of hotels in 2017 could be due to various factors, such as economic conditions, changing travel trends, or specific events. Understanding these seasonal trends can assist in optimizing pricing strategies, offering promotions during off-peak seasons, and managing resources more efficiently.\n",
        "\n",
        "**Resource Allocation**: With a clear understanding of the demand for city hotels, the business can allocate resources accordingly. This may involve focusing marketing efforts, investing in infrastructure, and optimizing staffing levels to meet the higher demand in city locations.\n",
        "\n",
        "Potential Negative Impacts:\n",
        "\n",
        "**Decrease in Resort Bookings**: The slight decrease in bookings for both types of hotels in 2017 might indicate a broader trend affecting both city and resort hotels. If this trend continues or worsens, it could negatively impact the overall revenue of the business.\n",
        "\n",
        "**Market Saturation:** If city hotels are consistently outperforming resort hotels, it could indicate market saturation or increased competition in the city hotel segment. This might make it challenging for the business to differentiate itself and attract customers, potentially leading to negative growth.\n",
        "\n",
        "**Economic Factors:** A decrease in bookings could be a result of economic downturns or other external factors affecting the travel industry. Understanding the root cause of the decline is crucial to developing effective strategies for mitigating negative impacts."
      ],
      "metadata": {
        "id": "_WtzZ_hCYuh4"
      }
    },
    {
      "cell_type": "markdown",
      "source": [
        "#### Chart - 6 Meal type Distribution (Univariate)"
      ],
      "metadata": {
        "id": "OH-pJp9IphqM"
      }
    },
    {
      "cell_type": "code",
      "source": [
        "# Chart - 6 visualization code\n",
        "# Set plot size\n",
        "plt.figure(figsize=(10,6))\n",
        "\n",
        "# Create the figure object\n",
        "sns.countplot(x = df['meal'])\n",
        "\n",
        "# Set labels\n",
        "plt.xlabel('Meal Type', fontsize = 16)\n",
        "plt.ylabel('Count', fontsize = 16)\n",
        "plt.title('Preferred Meal Type', fontsize = 20)\n",
        "\n",
        "# To show\n",
        "plt.show()\n",
        "\n"
      ],
      "metadata": {
        "id": "kuRf4wtuphqN"
      },
      "execution_count": null,
      "outputs": []
    },
    {
      "cell_type": "markdown",
      "source": [
        "##### 1. Why did you pick the specific chart?"
      ],
      "metadata": {
        "id": "bbFf2-_FphqN"
      }
    },
    {
      "cell_type": "markdown",
      "source": [
        "I have used the count plot here, because it shows the counts of observations in each categorical bin using bars. Bar plots look similar to count plots. But instead of the count of observations in each category, they show the mean of a quantitative variable among observations in each category. So, to get clear insights about the counts of different types of meal, i have used this count plot."
      ],
      "metadata": {
        "id": "loh7H2nzphqN"
      }
    },
    {
      "cell_type": "markdown",
      "source": [
        "##### 2. What is/are the insight(s) found from the chart?"
      ],
      "metadata": {
        "id": "_ouA3fa0phqN"
      }
    },
    {
      "cell_type": "markdown",
      "source": [
        "The insights that i have found from the above graph is that the most preferred meal type by the guests is BB (Bed and Breakfast) while HB (Half Board) and SC (Self Catering) are equally preferred. Types of meal in hotels are as follows:-\n",
        "\n",
        "* BB - (Bed and Breakfast)\n",
        "\n",
        "* HB - (Half Board)\n",
        "\n",
        "* FB - (Full Board)\n",
        "\n",
        "* SC - (Self Catering)"
      ],
      "metadata": {
        "id": "VECbqPI7phqN"
      }
    },
    {
      "cell_type": "markdown",
      "source": [
        "##### 3. Will the gained insights help creating a positive business impact?\n",
        "Are there any insights that lead to negative growth? Justify with specific reason."
      ],
      "metadata": {
        "id": "Seke61FWphqN"
      }
    },
    {
      "cell_type": "markdown",
      "source": [
        "So, the insights here also have positive impact as hotels need to focus more on the BB meal type so that the majority of customers are satisfied while others types of meals should be given equal importance with proper management of food services so as to offer best services to customers."
      ],
      "metadata": {
        "id": "DW4_bGpfphqN"
      }
    },
    {
      "cell_type": "markdown",
      "source": [
        "#### Chart - 7 which room type most preferd by customer"
      ],
      "metadata": {
        "id": "PIIx-8_IphqN"
      }
    },
    {
      "cell_type": "code",
      "source": [
        "#gouping\n",
        "most_preferd_room_type = df.groupby(['assigned_room_type'])['assigned_room_type'].agg({'count'}).reset_index().sort_values(by = 'count', ascending = False)\n",
        "most_preferd_room_type"
      ],
      "metadata": {
        "id": "eu7dLTmUqwe3"
      },
      "execution_count": null,
      "outputs": []
    },
    {
      "cell_type": "code",
      "source": [
        "# Chart - 7 visualization code\n",
        "#set figure size\n",
        "plt.figure(figsize = (15,8))\n",
        "#visualizing by bar plot\n",
        "sns.barplot(data = most_preferd_room_type ,  x = 'assigned_room_type', y = 'count')\n",
        "#set labels\n",
        "plt.xlabel('room_type')\n",
        "plt.ylabel('count of room type')\n",
        "#To show\n",
        "plt.show()\n",
        "\n"
      ],
      "metadata": {
        "id": "lqAIGUfyphqO"
      },
      "execution_count": null,
      "outputs": []
    },
    {
      "cell_type": "markdown",
      "source": [
        "##### 1. Why did you pick the specific chart?"
      ],
      "metadata": {
        "id": "t27r6nlMphqO"
      }
    },
    {
      "cell_type": "markdown",
      "source": [
        "Bar plots are effective for comparing different categories, in this case, the preferences for room A and room D. Each bar represents a category, making it easy to see the relative heights of the bars and compare the preferences.Bar plots are particularly suitable for visualizing categorical data, where each category is distinct and unrelated. If your analysis involves comparing discrete options (like room preferences), a bar plot is a straightforward choice."
      ],
      "metadata": {
        "id": "iv6ro40sphqO"
      }
    },
    {
      "cell_type": "markdown",
      "source": [
        "##### 2. What is/are the insight(s) found from the chart?"
      ],
      "metadata": {
        "id": "r2jJGEOYphqO"
      }
    },
    {
      "cell_type": "markdown",
      "source": [
        "Room Types A seem to be the most popular among customers, indicating that these room types might offer amenities, features, or price points that resonate well with the target demographic.\n",
        "\n",
        "Understanding which room types are preferred can help in inventory management and pricing strategies. Businesses could allocate more resources or marketing efforts towards promoting these popular room types to capitalize on customer preferences."
      ],
      "metadata": {
        "id": "Po6ZPi4hphqO"
      }
    },
    {
      "cell_type": "markdown",
      "source": [
        "##### 3. Will the gained insights help creating a positive business impact?\n",
        "Are there any insights that lead to negative growth? Justify with specific reason."
      ],
      "metadata": {
        "id": "b0JNsNcRphqO"
      }
    },
    {
      "cell_type": "markdown",
      "source": [
        "**Positive Business Impact**:\n",
        "\n",
        "**Identifying Popular Features**: If the barplot analysis reveals that customers prefer certain features in Room A over Room D (and vice versa), the business can capitalize on these insights. For example, if Room A has a better view and customers prefer it, the business can market this feature more prominently or even consider improving Room D to align with customer preferences.\n",
        "\n",
        "**Pricing Strategy**: If customers are willing to pay more for Room A based on the analysis, the business can adjust pricing strategies accordingly. This can lead to increased revenue and potentially higher profit margins.\n",
        "\n",
        "**Marketing and Promotions**: The insights gained from the analysis can be used to tailor marketing campaigns. If Room A is more popular, the business can focus its promotional efforts on this room, attracting more customers and increasing bookings.\n",
        "\n",
        "** Negative Impact:**\n",
        "\n",
        "**Resource Misallocation**: If the analysis shows that Room D is consistently less popular, the business might want to reconsider investing in its improvement or may even consider repurposing it. Continuing to invest resources in an unpopular room without a clear strategy for improvement could lead to wasted resources.\n",
        "\n",
        "**Customer Dissatisfaction**: If the business doesn't act on the insights gained from the analysis, customers may become dissatisfied. For example, if Room A is consistently preferred but the business doesn't market it effectively, customers may miss out on the better option, potentially leading to negative reviews and decreased customer satisfaction.\n",
        "\n",
        "**Competitive Disadvantage**: If a competitor in the same industry is quick to respond to customer preferences and makes necessary adjustments, your business may face a competitive disadvantage. Regularly analyzing and adapting to customer preferences is crucial for staying competitive in the market."
      ],
      "metadata": {
        "id": "xvSq8iUTphqO"
      }
    },
    {
      "cell_type": "markdown",
      "source": [
        "#### Chart - 8 Which type of hotel having longer waiting time?"
      ],
      "metadata": {
        "id": "BZR9WyysphqO"
      }
    },
    {
      "cell_type": "code",
      "source": [
        "#groupping by hoetl and takin mean of days in waiting list\n",
        "waiting_time = df.groupby(['hotel'])['days_in_waiting_list'].mean().reset_index()\n",
        "waiting_time"
      ],
      "metadata": {
        "id": "5HHEy99gvoWq"
      },
      "execution_count": null,
      "outputs": []
    },
    {
      "cell_type": "code",
      "source": [
        "# Chart - 8 visualization code\n",
        "#set figure size\n",
        "plt.figure(figsize = (8,8))\n",
        "#visulization of waiting time of hotel by use of bar plot\n",
        "sns.barplot(data = waiting_time , x = 'hotel', y ='days_in_waiting_list')\n",
        "#set labels\n",
        "plt.xlabel('Hotel_type')\n",
        "plt.ylabel('waiting time')\n",
        "plt.title('waiting time for each hotel type')\n",
        "#To show\n",
        "plt.show()"
      ],
      "metadata": {
        "id": "TdPTWpAVphqO"
      },
      "execution_count": null,
      "outputs": []
    },
    {
      "cell_type": "markdown",
      "source": [
        "##### 1. Why did you pick the specific chart?"
      ],
      "metadata": {
        "id": "jj7wYXLtphqO"
      }
    },
    {
      "cell_type": "markdown",
      "source": [
        "Bar plots are particularly useful when you want to compare the values of a categorical variable (in this case, the hotel type – City vs. Resort). Each bar represents a category, and the length of the bar corresponds to the magnitude of the variable being measured (lead time).Bar plots provide a clear and straightforward visual representation of the comparison. The distinct bars for City and Resort hotels make it easy to compare their lead times at a glance."
      ],
      "metadata": {
        "id": "Ob8u6rCTphqO"
      }
    },
    {
      "cell_type": "markdown",
      "source": [
        "##### 2. What is/are the insight(s) found from the chart?"
      ],
      "metadata": {
        "id": "eZrbJ2SmphqO"
      }
    },
    {
      "cell_type": "markdown",
      "source": [
        "A longer lead time for City hotels compared to Resort hotels may indicate that customers tend to plan and book their stays at City hotels well in advance. This could be due to the nature of City hotels being popular for business trips or events that require early planning."
      ],
      "metadata": {
        "id": "mZtgC_hjphqO"
      }
    },
    {
      "cell_type": "markdown",
      "source": [
        "##### 3. Will the gained insights help creating a positive business impact?\n",
        "Are there any insights that lead to negative growth? Justify with specific reason."
      ],
      "metadata": {
        "id": "rFu4xreNphqO"
      }
    },
    {
      "cell_type": "markdown",
      "source": [
        "Positive Impact Scenarios: Operational Efficiency Improvement:\n",
        "\n",
        "Insight: City hotels have a longer lead time than Resort hotels. Positive Impact: This insight could lead to improvements in operational efficiency for City hotels. Streamlining processes, optimizing staffing levels, and enhancing reservation systems could be potential areas for improvement. Reducing lead time might result in increased customer satisfaction and better resource allocation. Revenue Optimization:\n",
        "\n",
        "Insight: City hotels experience longer lead times. Positive Impact: With this knowledge, the City hotel can strategically adjust pricing, promotions, and marketing efforts to capitalize on the longer lead times. This could potentially lead to increased revenue by attracting more early bookings. Marketing Strategy Adjustments:\n",
        "\n",
        "Insight: Longer lead times in City hotels. Positive Impact: The marketing strategy for City hotels can be adjusted to target customers who plan and book in advance. Special promotions, early booking discounts, or loyalty programs for early bookers could be implemented to attract more customers and boost revenue. Negative Impact Scenarios: Customer Dissatisfaction:\n",
        "\n",
        "Insight: City hotels have longer lead times. Negative Impact: If the longer lead times are due to delays in service, inefficient processes, or lack of availability, it could lead to customer dissatisfaction. This may result in negative reviews, decreased customer loyalty, and potential loss of business. Competitive Disadvantage:\n",
        "\n",
        "Insight: Longer lead times for City hotels. Negative Impact: If competitors, especially other City hotels, have shorter lead times, it could put the analyzed City hotel at a competitive disadvantage. Potential guests may choose other options with quicker and more convenient booking processes. Revenue Loss:\n",
        "\n",
        "Insight: City hotels face longer lead times. Negative Impact: If the longer lead times are not addressed and result in a lower booking rate or increased cancellations, it could lead to revenue loss. The business may miss out on potential bookings from customers who prefer shorter lead times."
      ],
      "metadata": {
        "id": "ey_0qi68phqO"
      }
    },
    {
      "cell_type": "markdown",
      "source": [
        "#### Chart - 9  Plotting Histogram"
      ],
      "metadata": {
        "id": "YJ55k-q6phqO"
      }
    },
    {
      "cell_type": "code",
      "source": [
        "# Chart - 9 visualization code\n",
        "# Visualizing with the help of histogram plot for the entire dataset\n",
        "# Set the plot size\n",
        "df.hist(figsize = (23,18))\n",
        "\n",
        "# To show\n",
        "plt.show()\n"
      ],
      "metadata": {
        "id": "B2aS4O1ophqO"
      },
      "execution_count": null,
      "outputs": []
    },
    {
      "cell_type": "markdown",
      "source": [
        "##### 1. Why did you pick the specific chart?"
      ],
      "metadata": {
        "id": "gCFgpxoyphqP"
      }
    },
    {
      "cell_type": "markdown",
      "source": [
        "To understand the data in a clear way with proper insights. I have used the histogram here. The histogram is a popular graphing tool. It is used to summarize discrete or continuous data that are measured on a interval scale. It is often used to illustrate the major features of the distribution of the data in a convenient form. It is also useful when dealing with large data sets (greater than 100 observations). It can help detect any unusual observations (outliers) or any gaps in the data. Thus, i have used the histogram plot to analysis the variable distributions over the whole dataset whether it's symmetric or not."
      ],
      "metadata": {
        "id": "TVxDimi2phqP"
      }
    },
    {
      "cell_type": "markdown",
      "source": [
        "##### 2. What is/are the insight(s) found from the chart?"
      ],
      "metadata": {
        "id": "OVtJsKN_phqQ"
      }
    },
    {
      "cell_type": "markdown",
      "source": [
        "Some insights found from the chart are as follows:-\n",
        "\n",
        "* We can see that the maximum guest came in the year 2016.\n",
        "\n",
        "* Maximum arrival week number is 30.\n",
        "\n",
        "* Maximum arrival happens in the last of the month.\n",
        "\n",
        "* Maximum guests comes with no children.\n",
        "\n",
        "* There is very less requirement of Car parking spaces."
      ],
      "metadata": {
        "id": "ngGi97qjphqQ"
      }
    },
    {
      "cell_type": "markdown",
      "source": [
        "##### 3. Will the gained insights help creating a positive business impact?\n",
        "Are there any insights that lead to negative growth? Justify with specific reason."
      ],
      "metadata": {
        "id": "lssrdh5qphqQ"
      }
    },
    {
      "cell_type": "markdown",
      "source": [
        "Just a histogram cannot define business impact. It's done just to see the distribution of the column data over the dataset."
      ],
      "metadata": {
        "id": "tBpY5ekJphqQ"
      }
    },
    {
      "cell_type": "markdown",
      "source": [
        "#### Chart - 10 Year and Hotel wise confirmed bookings and cancellation distribution"
      ],
      "metadata": {
        "id": "U2RJ9gkRphqQ"
      }
    },
    {
      "cell_type": "code",
      "source": [
        "# Chart - 10 visualization code\n",
        " #Finding out the percentage and counts of confirmed and canceled bookings\n",
        "# Plotting a Count Plot chart using seaborn for counts of confirmed and canceled bookings\n",
        "\n",
        "# Set plot size\n",
        "plt.figure(figsize = (8,6))\n",
        "\n",
        "# Create the figure object\n",
        "sns.countplot(x = 'hotel', hue = 'is_canceled', palette = 'Set2', data = df)\n",
        "\n",
        "# Set legends\n",
        "plt.legend(['Confirmed', 'Canceled'])\n",
        "\n",
        "# Set labels\n",
        "plt.title('Hotel wise confirmation and cancelation of the bookings', fontsize = 20)\n",
        "plt.ylabel('Count of\\nconfirmation and cancelation', fontsize = 16)\n",
        "plt.xlabel('Hotel Type', fontsize = 16)\n",
        "\n",
        "# To show\n",
        "plt.show()\n",
        "\n"
      ],
      "metadata": {
        "id": "GM7a4YP4phqQ"
      },
      "execution_count": null,
      "outputs": []
    },
    {
      "cell_type": "code",
      "source": [
        "# Removing the canceled bookings from the data and creating a new dataframe\n",
        "data_not_canceled = df[df['is_canceled'] == 0]\n",
        "\n",
        "# Year wise Bookings of hotels\n",
        "# Set style\n",
        "sns.set_style(style = 'darkgrid')\n",
        "\n",
        "# Set plot size\n",
        "plt.figure(figsize = (9,6))\n",
        "\n",
        "# Create the figure object\n",
        "sns.countplot(x= 'arrival_date_year', hue= 'hotel', palette = 'tab10', data = data_not_canceled)\n",
        "\n",
        "# Set legends\n",
        "plt.legend(['Resort Hotel', 'City Hotel'])\n",
        "\n",
        "# Set labels\n",
        "plt.title('Year wise bookings of hotels', fontsize = 20)\n",
        "plt.ylabel('Number of bookings', fontsize = 16)\n",
        "plt.xlabel('Year', fontsize = 16)\n",
        "\n",
        "# To show\n",
        "plt.show()"
      ],
      "metadata": {
        "id": "arFYrClq2i8J"
      },
      "execution_count": null,
      "outputs": []
    },
    {
      "cell_type": "markdown",
      "source": [
        "##### 1. Why did you pick the specific chart?"
      ],
      "metadata": {
        "id": "1M8mcRywphqQ"
      }
    },
    {
      "cell_type": "markdown",
      "source": [
        "I have picked out the count plot to get proper insights on Hotel wise cancelation and confirmation of bookings."
      ],
      "metadata": {
        "id": "8agQvks0phqQ"
      }
    },
    {
      "cell_type": "markdown",
      "source": [
        "##### 2. What is/are the insight(s) found from the chart?"
      ],
      "metadata": {
        "id": "tgIPom80phqQ"
      }
    },
    {
      "cell_type": "markdown",
      "source": [
        "We can clearly deduce from the above graphs that the City hotel is having greater number of bookings as compared to Resort hotel. But, the cancelation percentage is high of the City Hotel.\n",
        "\n",
        "From the above graphs, it can be summarised that in the year 2016 both the hotel saw a massive increase in their bookings and by far the year 2016 is the year of the highest bookings of both hotel. In 2016 and 2017 the City hotel is having the highest number of bookings but in 2015 the Resort hotel is having the highest number of bookings."
      ],
      "metadata": {
        "id": "Qp13pnNzphqQ"
      }
    },
    {
      "cell_type": "markdown",
      "source": [
        "##### 3. Will the gained insights help creating a positive business impact?\n",
        "Are there any insights that lead to negative growth? Justify with specific reason."
      ],
      "metadata": {
        "id": "JMzcOPDDphqR"
      }
    },
    {
      "cell_type": "markdown",
      "source": [
        "Overall the graphs show a positive outcome but the visualization of cancelation graph creates a situation of deep concern. So, here as we can see, that more than 1/4th of overall booking got canceled. So, it's a matter of deep concern. Thus, we need to look over this problem. The solution to this problem is that, we can check the reasons of cancelation of a booking & need to get this sorted out as soon as possible at the business level to stop the problems getting broader."
      ],
      "metadata": {
        "id": "R4Ka1PC2phqR"
      }
    },
    {
      "cell_type": "markdown",
      "source": [
        "#### Chart - 11 Arrival Year Vs. Average Total of Special Requests"
      ],
      "metadata": {
        "id": "x-EpHcCOp1ci"
      }
    },
    {
      "cell_type": "code",
      "source": [
        "# Chart - 11 visualization code\n",
        "#Check relation between arrival year & total special request\n",
        "non_canceled_booking=df[(df['is_canceled'] == 0)]\n",
        "non_canceled_booking.groupby(non_canceled_booking['arrival_date_year'])['total_of_special_requests'].mean().plot(kind='bar', figsize=(5,5))\n",
        "#set labels\n",
        "plt.title('Arrival Year Vs. Average Total of Special Requests ', fontsize=15)\n",
        "plt.xlabel('Arrival Year' , fontsize=14)\n",
        "plt.ylabel('Average Total of Special Requests' , fontsize=14)"
      ],
      "metadata": {
        "id": "mAQTIvtqp1cj"
      },
      "execution_count": null,
      "outputs": []
    },
    {
      "cell_type": "markdown",
      "source": [
        "##### 1. Why did you pick the specific chart?"
      ],
      "metadata": {
        "id": "X_VqEhTip1ck"
      }
    },
    {
      "cell_type": "markdown",
      "source": [
        "Bar graphs allow for a clear comparison between different categories or groups, in this case, different arrival years. Each bar represents a distinct year, making it easy for viewers to compare the average total of special requests across different years at a glance.In this case, we're analyzing a trend over time (arrival years). Bar graphs are well-suited for illustrating trends and patterns, making them ideal for showing how the average total of special requests varies with each increasing year."
      ],
      "metadata": {
        "id": "-vsMzt_np1ck"
      }
    },
    {
      "cell_type": "markdown",
      "source": [
        "##### 2. What is/are the insight(s) found from the chart?"
      ],
      "metadata": {
        "id": "8zGJKyg5p1ck"
      }
    },
    {
      "cell_type": "markdown",
      "source": [
        "The bar graph shows that as the arrival year increases, the average total of special requests tends to increase. This implies that over the years, guests are making more special requests when booking hotels.\n",
        "\n",
        "The increasing trend suggests a growing demand for personalized services and accommodations among hotel guests. This could indicate a shift in consumer expectations towards more customized experiences during their stays."
      ],
      "metadata": {
        "id": "ZYdMsrqVp1ck"
      }
    },
    {
      "cell_type": "markdown",
      "source": [
        "##### 3. Will the gained insights help creating a positive business impact?\n",
        "Are there any insights that lead to negative growth? Justify with specific reason."
      ],
      "metadata": {
        "id": "PVzmfK_Ep1ck"
      }
    },
    {
      "cell_type": "markdown",
      "source": [
        "**Positive Business Impacts**:\n",
        "\n",
        "**Enhanced Customer Experience**: By observing that special requests are increasing with each passing year, hotels can tailor their services to accommodate these requests better. This could lead to an enhanced customer experience, improving guest satisfaction and potentially leading to repeat bookings and positive word-of-mouth referrals.\n",
        "\n",
        "**Opportunity for Upselling**: Understanding the types of special requests guests are making can also present opportunities for upselling additional services or amenities. For example, if guests frequently request room upgrades or special amenities, hotels can offer these as premium options, increasing revenue per guest.\n",
        "\n",
        "**Competitive Advantage**: Hotels that actively respond to and fulfill special requests can differentiate themselves from competitors. Guests are likely to choose hotels that demonstrate a commitment to meeting their individual needs, thereby improving the hotel's competitive position in the market."
      ],
      "metadata": {
        "id": "druuKYZpp1ck"
      }
    },
    {
      "cell_type": "markdown",
      "source": [
        "#### Chart - 12 Weekly stay distribution and Calculation of Cancelation and non-cancelation"
      ],
      "metadata": {
        "id": "n3dbpmDWp1ck"
      }
    },
    {
      "cell_type": "code",
      "source": [
        "# Chart - 12 visualization code\n",
        "#As i have already created a column 'total_stay' above i.e.\n",
        "# Adding total staying days in hotels\n",
        "df['total_stay'] = df['stays_in_weekend_nights'] + df['stays_in_week_nights']\n",
        "\n",
        "# Set the plot size\n",
        "plt.figure(figsize=(14,7))\n",
        "\n",
        "# Using a violin plot to know in which weeks, visitors stays the most\n",
        "sns.violinplot(x = 'arrival_date_week_number', y = 'total_stay', palette = 'Set2', data = df)\n",
        "\n",
        "# Set labels\n",
        "plt.title('Week wise number of stays', fontsize = 20)\n",
        "plt.ylabel('Number os stays', fontsize = 16)\n",
        "plt.xlabel('Week number', fontsize = 16)\n",
        "\n",
        "# To show\n",
        "plt.show()"
      ],
      "metadata": {
        "id": "bwevp1tKp1ck"
      },
      "execution_count": null,
      "outputs": []
    },
    {
      "cell_type": "markdown",
      "source": [
        "##### 1. Why did you pick the specific chart?"
      ],
      "metadata": {
        "id": "ylSl6qgtp1ck"
      }
    },
    {
      "cell_type": "markdown",
      "source": [
        "I have used the violin plot here, to gather proper relation between number of stays and week wise number of stays and violin plots are used when one want to observe the distribution of numetic data, and are especially useful when you want to make a comparison of distributions between multiple groups. This peaks, valleys, and tails of each group's density curve can be compared to see where groups are similar or different."
      ],
      "metadata": {
        "id": "m2xqNkiQp1ck"
      }
    },
    {
      "cell_type": "markdown",
      "source": [
        "##### 2. What is/are the insight(s) found from the chart?"
      ],
      "metadata": {
        "id": "ZWILFDl5p1ck"
      }
    },
    {
      "cell_type": "markdown",
      "source": [
        "From the above violin plot, we have found that from the week 28 to 31, it has shown the highest days of stay whereas from the week 1 to 11 has shown a very steady trend in the number of stays and also the week 18 to 22 has shown the least number of stays by the visitors in aggregate of all 3 years 2015, 2016 and 2017."
      ],
      "metadata": {
        "id": "x-lUsV2mp1ck"
      }
    },
    {
      "cell_type": "markdown",
      "source": [
        "##### 3. Will the gained insights help creating a positive business impact?\n",
        "Are there any insights that lead to negative growth? Justify with specific reason."
      ],
      "metadata": {
        "id": "M7G43BXep1ck"
      }
    },
    {
      "cell_type": "markdown",
      "source": [
        "es, according to the outcomes, Client can have a better plan to provide better services to the guests so that the revenue can be multiplied.\n",
        "\n",
        "So, here as we can see, that more than 27% booking got canceled. So, it's a matter of deep concern. Thus, we need to look over this problem. The solution to this problem is that, we can check the reasons of cancelation of a booking & need to get this sorted out as soon as possible at the business level to stop the problems getting broader.\n",
        "\n"
      ],
      "metadata": {
        "id": "5wwDJXsLp1cl"
      }
    },
    {
      "cell_type": "markdown",
      "source": [
        "#### Chart - 13 Total Bookings Vs. Length of Stay"
      ],
      "metadata": {
        "id": "Ag9LCva-p1cl"
      }
    },
    {
      "cell_type": "code",
      "source": [
        "# Chart - 13 visualization code\n",
        "#length of stay City hotel Vs Resort Hotel\n",
        "non_canceled_booking['length_of_stay'] =non_canceled_booking['stays_in_weekend_nights'] + non_canceled_booking['stays_in_week_nights']\n",
        "\n",
        "#lets compare lenth of stay with total no of bookings\n",
        "non_canceled_booking.groupby(non_canceled_booking['length_of_stay'])['hotel'].size()[:10].plot(kind='bar', figsize=(5,5))\n",
        "#set labels\n",
        "plt.title('Total Bookings Vs. Length of Stay', fontsize=20)\n",
        "plt.xlabel('Length of Stay ' , fontsize=14)\n",
        "plt.ylabel('No. of Bookings' , fontsize=14)\n",
        "#To show\n",
        "plt.show()"
      ],
      "metadata": {
        "id": "EUfxeq9-p1cl"
      },
      "execution_count": null,
      "outputs": []
    },
    {
      "cell_type": "markdown",
      "source": [
        "##### 1. Why did you pick the specific chart?"
      ],
      "metadata": {
        "id": "E6MkPsBcp1cl"
      }
    },
    {
      "cell_type": "markdown",
      "source": [
        "A bar chart is excellent for comparing different categories, in this case, the length of stay (1, 2, and 3 nights). The lengths of stay are discrete categories, making bars a natural choice to represent each category's value.by focusing on the highest bookings for 1, 2, and 3 nights, a bar chart allows us to visually highlight these peaks."
      ],
      "metadata": {
        "id": "V22bRsFWp1cl"
      }
    },
    {
      "cell_type": "markdown",
      "source": [
        "##### 2. What is/are the insight(s) found from the chart?"
      ],
      "metadata": {
        "id": "2cELzS2fp1cl"
      }
    },
    {
      "cell_type": "markdown",
      "source": [
        "By analyzing the highest bookings for 1, 2, and 3 nights specifically, you can identify peak periods for short stays. These could indicate trends such as weekend getaways, business trips, or short vacations."
      ],
      "metadata": {
        "id": "ozQPc2_Ip1cl"
      }
    },
    {
      "cell_type": "markdown",
      "source": [
        "##### 3. Will the gained insights help creating a positive business impact?\n",
        "Are there any insights that lead to negative growth? Justify with specific reason."
      ],
      "metadata": {
        "id": "3MPXvC8up1cl"
      }
    },
    {
      "cell_type": "markdown",
      "source": [
        "**Positive Business Impact**:\n",
        "\n",
        "**Optimized Pricing Strategies**: Understanding the distribution of bookings across different lengths of stay can help hotels optimize their pricing strategies. They can adjust rates based on demand patterns for different durations, potentially increasing revenue.\n",
        "\n",
        "**Marketing and Promotion**: Knowing the most popular lengths of stay allows hotels to tailor their marketing efforts and promotions accordingly. They can target specific segments of customers with offers that match their typical booking preferences.\n",
        "\n",
        "**Resource Allocation**: By understanding booking patterns, hotels can efficiently allocate resources such as staff, cleaning services, and room availability to accommodate guests with varying lengths of stay, leading to better operational efficiency.\n",
        "\n",
        "**Enhanced Customer Experience**: With insights into popular lengths of stay, hotels can tailor their services to better meet the needs of guests, potentially leading to higher satisfaction and positive reviews."
      ],
      "metadata": {
        "id": "GL8l1tdLp1cl"
      }
    },
    {
      "cell_type": "markdown",
      "source": [
        "#### Chart - 14 - Correlation Heatmap"
      ],
      "metadata": {
        "id": "NC_X3p0fY2L0"
      }
    },
    {
      "cell_type": "code",
      "source": [
        "# Correlation Heatmap visualization code\n",
        "plt.figure(figsize = (18,10))\n",
        "\n",
        "# Create the figure object\n",
        "sns.heatmap(df.corr(), annot = True, fmt='.2f')\n",
        "\n",
        "# Set title\n",
        "plt.title('Co-relation of the columns', fontsize = 20)\n",
        "\n",
        "# To show\n",
        "plt.show()\n",
        "\n"
      ],
      "metadata": {
        "id": "xyC9zolEZNRQ"
      },
      "execution_count": null,
      "outputs": []
    },
    {
      "cell_type": "markdown",
      "source": [
        "##### 1. Why did you pick the specific chart?"
      ],
      "metadata": {
        "id": "UV0SzAkaZNRQ"
      }
    },
    {
      "cell_type": "markdown",
      "source": [
        "A correlation matrix is a table showing correlation coefficients between variables. Each cell in the table shows the co-relation between two variables. A correlation matrix is used to summarize data, as an input into a more advanced analysis and as a diagnostic for advanced analysis. The range of correlation is [-1,1].\n",
        "\n",
        "Thus to know the co-relation between all the variables along with the correlation coefficients, i have used correlation heatmap."
      ],
      "metadata": {
        "id": "DVPuT8LYZNRQ"
      }
    },
    {
      "cell_type": "markdown",
      "source": [
        "##### 2. What is/are the insight(s) found from the chart?"
      ],
      "metadata": {
        "id": "YPEH6qLeZNRQ"
      }
    },
    {
      "cell_type": "markdown",
      "source": [
        "The insights found from the above chart are as follows:-\n",
        "\n",
        "* is_canceled and total_stay are negatively correlated. This means customers are unlikely to cancel their bookings if they don't get the same room as per reserved room. We have visualized it above.\n",
        "\n",
        "* lead_time and total_stay is positively correlated. This means more the stay of customer is, more will be the lead time.\n",
        "\n",
        "* adults, childrens and babies are correlated to each other. This indicates more the people, more will be ADR.\n",
        "\n",
        "* is_repeated guest and previous bookings not canceled have a strong correlation. This may be due to the reason that repeated guests are not more interested to cancel their bookings.\n",
        "\n",
        "So, these are some powerful insights found from the chart of correlation heatmap."
      ],
      "metadata": {
        "id": "bfSqtnDqZNRR"
      }
    },
    {
      "cell_type": "markdown",
      "source": [
        "#### Chart - 15 - Pair Plot"
      ],
      "metadata": {
        "id": "q29F0dvdveiT"
      }
    },
    {
      "cell_type": "code",
      "source": [
        "# Pair Plot visualization code\n",
        "# Pair Plot visualization code\n",
        "sns.pairplot(df, hue = 'is_repeated_guest')\n",
        "\n",
        "# To show\n",
        "plt.show()\n"
      ],
      "metadata": {
        "id": "o58-TEIhveiU"
      },
      "execution_count": null,
      "outputs": []
    },
    {
      "cell_type": "markdown",
      "source": [
        "##### 1. Why did you pick the specific chart?"
      ],
      "metadata": {
        "id": "EXh0U9oCveiU"
      }
    },
    {
      "cell_type": "markdown",
      "source": [
        "Pair plot is used to understand the best set of features to explain a relationship between two variables or to form the most separated clusters. It also helps to form some simple classification models by drawing some simple lines or make linear separation in our data-set.\n",
        "\n",
        "Thus, i have used pair plot to analyse the patterns of data and relationship between the features. It's exactly same as the correlation map but here it shows the output in the graphical representation."
      ],
      "metadata": {
        "id": "eMmPjTByveiU"
      }
    },
    {
      "cell_type": "markdown",
      "source": [
        "##### 2. What is/are the insight(s) found from the chart?"
      ],
      "metadata": {
        "id": "22aHeOlLveiV"
      }
    },
    {
      "cell_type": "markdown",
      "source": [
        "We have found the relationship of 'is_repeated_guest' with different types of columns. So, generally this chart reflects the relationship of a particular column with all other columns."
      ],
      "metadata": {
        "id": "uPQ8RGwHveiV"
      }
    },
    {
      "cell_type": "markdown",
      "source": [
        "## **5. Solution to Business Objective**"
      ],
      "metadata": {
        "id": "JcMwzZxoAimU"
      }
    },
    {
      "cell_type": "markdown",
      "source": [
        "#### What do you suggest the client to achieve Business Objective ?\n",
        "Explain Briefly."
      ],
      "metadata": {
        "id": "8G2x9gOozGDZ"
      }
    },
    {
      "cell_type": "markdown",
      "source": [
        "**Business objective attained as follows:**\n",
        "\n",
        "1. To attain high growth and more success, hotel business need to flourish and for that few things which we need to consider is high revenue generation, customers satisfaction and employeee retention.\n",
        "\n",
        "2. We are able achieve the same by showing the client which are the months which are high in revenue generation by using various charts and graphs distribution.\n",
        "\n",
        "3. Enhancing the revenue adopted by bar chart distribution of which type room are most preferred and reserved and which are the months suitable for visitors.\n",
        "\n",
        "4. We also have founded the various preferences in different categories like most liked meal type, optimal stay length, facilities required by customers like car parking spaces, etc. So, all these insights ultimately add to have a better planning for growth and higher revenue.\n",
        "\n",
        "5. So, preparing well by using and understanding these useful outcomes, the client can be well prepare in advance so that minimum grievances would be faced by clients in long run and would help in further enhancement of their hospitality and service.\n",
        "\n",
        "6. Ask for feedback often from the guests visiting the hotels so that the quality can be upgraded to the next level to increase more guests.\n",
        "\n",
        "7. Periodically throw offers to attract the old customers so as to increase the number of repeated guests."
      ],
      "metadata": {
        "id": "pASKb0qOza21"
      }
    },
    {
      "cell_type": "markdown",
      "source": [
        "# **Conclusion**"
      ],
      "metadata": {
        "id": "gCX9965dhzqZ"
      }
    },
    {
      "cell_type": "markdown",
      "source": [
        "* City hotels are the most preferred hotel type by the guests. So, we can say that City hotels are the busiest hotel in comparison to the resort hotel.\n",
        "\n",
        "* The average ADR of city hotels is higher as compared to the resort hotels. So, it can be said that these City hotels are generating more revenue than the resort hotels.\n",
        "\n",
        "* The total stay of guests is directly proportional to the adr. So, higher the days of stay, the higher will be ADR and revenue as well.\n",
        "\n",
        "* The percentage of repeated guests is very low. Only 3.9% people had revisited the hotels. Rest 96.1% were new guests. So, retention rate is much low.\n",
        "\n",
        "* The percentage of required car parking spaces is very low. This means less car parking spaces don't affect the business much. Most of the customers (91.6%) do not require car parking spaces.\n",
        "\n",
        "* Among different types of meals, BB (Bed & Breakfast) is the most preferred type of meal by the guests. So, guests love to opt for this meal type.\n",
        "\n",
        "* Optimal stay length in both the hotel types (City and Resort Hotel) is less than 7 days. Usually people stay for a week. So, after 1 week, the optimal stay length declined drastically.\n",
        "\n",
        "* Most number of bookings have taken place in the month of July and August. July and August are the favourite months of guests to visit different places.\n",
        "\n",
        "* The mostly used distribution channel for booking is 'TA/TO'. 79.1% bookings were made through TA/TO (travel agents/ tour operators).\n",
        "\n",
        "* While calculating ADR across different month, it is found that for Resort hotel, ADR is high in the months of June, July, August as compared to City Hotels.\n",
        "\n",
        "* Almost 1/4th of the total bookings is canceled. Approx, 27.5% bookings have got canceled out of all the bookings\n",
        "\n",
        "* Majority of the guests have shown interest in the room type 'A'. Room type 'A' is the most preferred room type."
      ],
      "metadata": {
        "id": "Fjb1IsQkh3yE"
      }
    },
    {
      "cell_type": "markdown",
      "source": [
        "### ***Hurrah! You have successfully completed your EDA Capstone Project !!!***"
      ],
      "metadata": {
        "id": "gIfDvo9L0UH2"
      }
    }
  ]
}